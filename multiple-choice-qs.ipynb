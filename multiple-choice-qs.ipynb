{
 "cells": [
  {
   "cell_type": "code",
   "execution_count": null,
   "metadata": {},
   "outputs": [],
   "source": [
    "# Import spreadsheet cleaning loader\n",
    "from load_survey_data import load_data, headers\n",
    "from mcq_tables import make_table"
   ]
  },
  {
   "cell_type": "code",
   "execution_count": null,
   "metadata": {},
   "outputs": [],
   "source": [
    "from datetime import datetime \n",
    "import matplotlib\n",
    "import matplotlib.pyplot as plt\n",
    "import numpy as np\n",
    "import pandas as pd\n",
    "# Requires openpyxl for read_excel\n",
    "from pathlib import Path\n",
    "import re\n",
    "from IPython.display import Markdown"
   ]
  },
  {
   "cell_type": "code",
   "execution_count": null,
   "metadata": {},
   "outputs": [],
   "source": [
    "sheet = \"summarise-all-results-2023-05-16-1359.xlsx\"\n",
    "format = \"%Y-%m-%d %H:%M:%S %Z\"\n",
    "df = load_data(sheet, format)"
   ]
  },
  {
   "cell_type": "code",
   "execution_count": null,
   "metadata": {},
   "outputs": [],
   "source": []
  },
  {
   "cell_type": "code",
   "execution_count": null,
   "metadata": {},
   "outputs": [],
   "source": [
    "def truncate_with_ellipsis(s, n):\n",
    "    if len(s) > n:\n",
    "        s = s[:(n - 1)]\n",
    "        return f\"{s}…\"\n",
    "    return s\n",
    "\n",
    "# Maximum number for any answer\n",
    "y_max = 0\n",
    "for (h, t) in headers.items():\n",
    "    if t == \"RANKING\":\n",
    "        y_max = max(y_max, df[h].value_counts().max())\n",
    "\n",
    "max_plots_in_one_section = 5\n",
    "\n",
    "matplotlib.rcParams.update({'figure.max_open_warning': 0})\n",
    "\n",
    "fig = None\n",
    "axs = []\n",
    "ax_n = 0\n",
    "for (h, t) in headers.items():\n",
    "    if t != \"RANKING\":\n",
    "        # Delete unused plot spaces\n",
    "        for ax in axs[ax_n:]:\n",
    "            fig.delaxes(ax)\n",
    "        # Show plot NOW, so that we can interleave plots and markdown\n",
    "        if ax_n:\n",
    "            plt.show()\n",
    "        fig = None\n",
    "        axs = []\n",
    "        ax_n = 0\n",
    "\n",
    "    if t == \"SECTION\":\n",
    "        display(Markdown(f\"## {h}\"))\n",
    "    # if t == \"TEXT\":\n",
    "        # show_text_answer(df[h])\n",
    "    if t == \"RANKING\":\n",
    "        print(make_table(df[h]))"
   ]
  }
 ],
 "metadata": {
  "kernelspec": {
   "display_name": "satre-feature-survey",
   "language": "python",
   "name": "python3"
  },
  "language_info": {
   "codemirror_mode": {
    "name": "ipython",
    "version": 3
   },
   "file_extension": ".py",
   "mimetype": "text/x-python",
   "name": "python",
   "nbconvert_exporter": "python",
   "pygments_lexer": "ipython3",
   "version": "3.10.8"
  },
  "orig_nbformat": 4
 },
 "nbformat": 4,
 "nbformat_minor": 2
}
