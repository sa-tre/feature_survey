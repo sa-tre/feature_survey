{
 "cells": [
  {
   "cell_type": "code",
   "execution_count": null,
   "id": "a5ec3d4b-5b4c-4de1-ac4f-15363bb4eadc",
   "metadata": {},
   "outputs": [],
   "source": [
    "# Import spreadsheet cleaning loader\n",
    "from load_survey_data import load_data, headers\n",
    "from survey_vis import survey_wordcloud\n",
    "from math import isnan\n",
    "from copy import deepcopy\n",
    "import matplotlib.pyplot as plt"
   ]
  },
  {
   "cell_type": "code",
   "execution_count": null,
   "id": "b2747ce7-6113-4154-af60-63cce5ab330c",
   "metadata": {},
   "outputs": [],
   "source": [
    "# Import spreadsheet cleaning loader\n",
    "from load_survey_data import load_data, headers"
   ]
  },
  {
   "cell_type": "code",
   "execution_count": null,
   "id": "cfb0c0e1-6d02-4535-a55b-85291d87bfa1",
   "metadata": {},
   "outputs": [],
   "source": [
    "sheet = \"final-results-for-satre-tre-op-2023-05-09-0822.xlsx\"\n",
    "format = \"%Y-%m-%d\"\n",
    "df = load_data(sheet, format)"
   ]
  },
  {
   "cell_type": "code",
   "execution_count": null,
   "id": "8f76d7f5-d8fd-4d22-b385-33e9bb8c9259",
   "metadata": {},
   "outputs": [],
   "source": [
    "df.columns"
   ]
  },
  {
   "cell_type": "markdown",
   "id": "8ccd35c8-77d9-482c-8742-0914b5ed4bf7",
   "metadata": {},
   "source": [
    "# Roles"
   ]
  },
  {
   "cell_type": "code",
   "execution_count": null,
   "id": "c61947b5-6c4c-4e7f-a3e8-e0d5f180ca37",
   "metadata": {},
   "outputs": [],
   "source": [
    "# Handle roles\n",
    "roles = {}\n",
    "for role in df['1. Role']:\n",
    "\n",
    "    # Interpret NaNs as \"None specified\"\n",
    "    if type(role) != str:\n",
    "        if isnan(role):\n",
    "            role = 'None specified'\n",
    "    \n",
    "    # Remove any trailing whitespace\n",
    "    role = role.rstrip()\n",
    "    \n",
    "    # Add role to dict\n",
    "    if role not in roles:\n",
    "        roles[role] = 1\n",
    "    else:\n",
    "        roles[role] += 1\n",
    "# roles"
   ]
  },
  {
   "cell_type": "code",
   "execution_count": null,
   "id": "137297b1-830e-493b-b967-ee9302064e77",
   "metadata": {},
   "outputs": [],
   "source": [
    "roles_wc = survey_wordcloud(roles)\n",
    "plt.axis('off')\n",
    "plt.imshow(roles_wc)"
   ]
  },
  {
   "cell_type": "markdown",
   "id": "c4cb42e6-0926-48e7-b2fd-d6fc8be81f50",
   "metadata": {},
   "source": [
    "# Institutions"
   ]
  },
  {
   "cell_type": "code",
   "execution_count": null,
   "id": "b477d370-eb40-42de-8bc7-cc766242f3be",
   "metadata": {},
   "outputs": [],
   "source": [
    "# Handle institutions\n",
    "insts = {}\n",
    "for inst in df['2. Institution']:\n",
    "    \n",
    "    # Interpret NaNs as no institutional affiliation\n",
    "    if type(inst) != str:\n",
    "        if isnan(inst):\n",
    "            inst = 'No affiliation'\n",
    "    \n",
    "    # Remove any trailing whitespace\n",
    "    inst = inst.rstrip()\n",
    "    \n",
    "    # Combine institutions clearly the same\n",
    "    if inst == 'University College London':\n",
    "        inst = 'UCL'\n",
    "    if inst == 'university of dundee':\n",
    "        inst = 'University of Dundee'\n",
    "        \n",
    "    # Split multiple institutions and add them individually \n",
    "    if ', ' in inst:\n",
    "        for i in inst.split(', '):\n",
    "            if i not in insts:\n",
    "                insts[i] = 1\n",
    "            else:\n",
    "                insts[i] += 1\n",
    "    # Otherwise add full institution name to dict\n",
    "    else:\n",
    "        if inst not in insts:\n",
    "            insts[inst] = 1\n",
    "        else:\n",
    "            insts[inst] += 1\n",
    "\n",
    "# Handle cases where institution has \"The\" but it's the same as one that doesn't\n",
    "insts_copy = deepcopy(insts)\n",
    "for inst, count in insts.items():\n",
    "    if 'The ' in inst:\n",
    "        if inst.split('The ')[0] == '':\n",
    "            insts_copy[inst.split('The ')[1]] +=1\n",
    "            insts_copy.pop(inst)\n",
    "insts = insts_copy"
   ]
  },
  {
   "cell_type": "code",
   "execution_count": null,
   "id": "7043860b-517c-4f3b-ae47-f3de364a41da",
   "metadata": {},
   "outputs": [],
   "source": [
    "insts_wc = survey_wordcloud(insts)\n",
    "plt.axis('off')\n",
    "plt.imshow(insts_wc)"
   ]
  },
  {
   "cell_type": "markdown",
   "id": "9221827b-fd9b-45c3-87ab-0d7d16cca530",
   "metadata": {},
   "source": [
    "# Programming languages"
   ]
  },
  {
   "cell_type": "code",
   "execution_count": null,
   "id": "fc8c38a6-752d-431d-a401-8187cc2ae7bb",
   "metadata": {},
   "outputs": [],
   "source": [
    "df['8.a. Which programming languages are important to you?']"
   ]
  },
  {
   "cell_type": "code",
   "execution_count": null,
   "id": "b1d2f5f7-c321-40ca-af1c-a7d9dd4d821f",
   "metadata": {},
   "outputs": [],
   "source": [
    "# Handle languages\n",
    "languages = {}\n",
    "for lang in df['8.a. Which programming languages are important to you?']:\n",
    "\n",
    "    # Ignore non-answers\n",
    "    if type(lang) != str:\n",
    "        if isnan(lang):\n",
    "            continue\n",
    "    \n",
    "    # Remove any trailing whitespace\n",
    "    lang = lang.rstrip()\n",
    "    \n",
    "    # Split multiple languages and add them individually \n",
    "    if ', ' in lang:\n",
    "        for l in lang.split(', '):\n",
    "            # Capitalise answers\n",
    "            l = l.capitalize()\n",
    "            if l not in languages:\n",
    "                languages[l] = 1\n",
    "            else:\n",
    "                languages[l] += 1\n",
    "    else:\n",
    "        lang = lang.capitalize()\n",
    "        if lang not in languages:\n",
    "            languages[lang] = 1\n",
    "        else:\n",
    "            languages[lang] += 1  \n",
    "            \n",
    "# Some custom rules to rename languages\n",
    "languages['Java'] = languages.pop('(java')\n",
    "languages['MySQL'] = languages.pop('Mysql')\n",
    "languages['SQL'] = languages.pop('Sql')\n",
    "languages['PySpark'] = languages.pop('Pyspark')\n",
    "languages['SPSS'] = languages.pop('Spss')\n",
    "languages['HTML'] = languages.pop('Html')\n",
    "            \n",
    "long_answers = []\n",
    "languages_copy = deepcopy(languages)\n",
    "for lang, count in languages.items():\n",
    "\n",
    "    # Put long answers to one side for now\n",
    "    if len(lang) >= 15:\n",
    "        long_answers.append(lang)\n",
    "        languages_copy.pop(lang)\n",
    "        continue\n",
    "        \n",
    "    # Handle languages separated by /\n",
    "    if '/' in lang:\n",
    "        for l in lang.split('/'):\n",
    "            l = l.capitalize()\n",
    "            if l not in languages:\n",
    "                languages_copy[l] = 1\n",
    "            else:\n",
    "                languages_copy[l] += 1\n",
    "        languages_copy.pop(lang)\n",
    "        \n",
    "    # Handle languages split\n",
    "    \n",
    "        \n",
    "languages = languages_copy\n",
    "\n",
    "# Some custom rules to rename languages\n",
    "languages['Groovy'] = languages.pop('Groovy.')\n",
    "languages.pop('Sql  spark')\n",
    "languages['SQL'] +=1\n",
    "languages['Spark'] = 1\n",
    "\n",
    "languages"
   ]
  },
  {
   "cell_type": "code",
   "execution_count": null,
   "id": "505d6ce9-9cec-44f3-8f79-6a67ab34a974",
   "metadata": {},
   "outputs": [],
   "source": [
    "languages_wc = survey_wordcloud(languages)\n",
    "plt.axis('off')\n",
    "plt.imshow(languages_wc)"
   ]
  },
  {
   "cell_type": "code",
   "execution_count": null,
   "id": "9b3e7311-e5a1-4831-9304-b0afbe6a18a9",
   "metadata": {},
   "outputs": [],
   "source": [
    "long_answers"
   ]
  }
 ],
 "metadata": {
  "kernelspec": {
   "display_name": "Python 3 (ipykernel)",
   "language": "python",
   "name": "python3"
  },
  "language_info": {
   "codemirror_mode": {
    "name": "ipython",
    "version": 3
   },
   "file_extension": ".py",
   "mimetype": "text/x-python",
   "name": "python",
   "nbconvert_exporter": "python",
   "pygments_lexer": "ipython3",
   "version": "3.10.8"
  }
 },
 "nbformat": 4,
 "nbformat_minor": 5
}
