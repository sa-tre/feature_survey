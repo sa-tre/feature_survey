{
 "cells": [
  {
   "cell_type": "code",
   "execution_count": null,
   "id": "a5ec3d4b-5b4c-4de1-ac4f-15363bb4eadc",
   "metadata": {},
   "outputs": [],
   "source": [
    "# Import spreadsheet cleaning loader\n",
    "from load_survey_data import load_data, headers\n",
    "from survey_vis import survey_wordcloud\n",
    "from math import isnan\n",
    "from copy import deepcopy\n",
    "import matplotlib.pyplot as plt"
   ]
  },
  {
   "cell_type": "code",
   "execution_count": null,
   "id": "b2747ce7-6113-4154-af60-63cce5ab330c",
   "metadata": {},
   "outputs": [],
   "source": [
    "# Import spreadsheet cleaning loader\n",
    "from load_survey_data import load_data, headers"
   ]
  },
  {
   "cell_type": "code",
   "execution_count": null,
   "id": "cfb0c0e1-6d02-4535-a55b-85291d87bfa1",
   "metadata": {},
   "outputs": [],
   "source": [
    "sheet = \"final-results-for-satre-tre-op-2023-05-09-0822.xlsx\"\n",
    "format = \"%Y-%m-%d\"\n",
    "df = load_data(sheet, format)"
   ]
  },
  {
   "cell_type": "code",
   "execution_count": null,
   "id": "8f76d7f5-d8fd-4d22-b385-33e9bb8c9259",
   "metadata": {},
   "outputs": [],
   "source": [
    "df.columns"
   ]
  },
  {
   "attachments": {},
   "cell_type": "markdown",
   "id": "8ccd35c8-77d9-482c-8742-0914b5ed4bf7",
   "metadata": {},
   "source": [
    "# Roles"
   ]
  },
  {
   "cell_type": "code",
   "execution_count": null,
   "id": "c61947b5-6c4c-4e7f-a3e8-e0d5f180ca37",
   "metadata": {},
   "outputs": [],
   "source": [
    "# Handle roles\n",
    "roles = {}\n",
    "for role in df['1. Role']:\n",
    "\n",
    "    # Interpret NaNs as \"None specified\"\n",
    "    if type(role) != str:\n",
    "        if isnan(role):\n",
    "            role = 'None specified'\n",
    "    \n",
    "    # Remove any trailing whitespace\n",
    "    role = role.rstrip()\n",
    "    \n",
    "    # Add role to dict\n",
    "    if role not in roles:\n",
    "        roles[role] = 1\n",
    "    else:\n",
    "        roles[role] += 1\n",
    "# roles"
   ]
  },
  {
   "cell_type": "code",
   "execution_count": null,
   "id": "137297b1-830e-493b-b967-ee9302064e77",
   "metadata": {},
   "outputs": [],
   "source": [
    "roles_wc = survey_wordcloud(roles)\n",
    "plt.axis('off')\n",
    "plt.imshow(roles_wc)"
   ]
  }
 ],
 "metadata": {
  "kernelspec": {
   "display_name": "Python 3 (ipykernel)",
   "language": "python",
   "name": "python3"
  },
  "language_info": {
   "codemirror_mode": {
    "name": "ipython",
    "version": 3
   },
   "file_extension": ".py",
   "mimetype": "text/x-python",
   "name": "python",
   "nbconvert_exporter": "python",
   "pygments_lexer": "ipython3",
   "version": "3.10.8"
  }
 },
 "nbformat": 4,
 "nbformat_minor": 5
}
