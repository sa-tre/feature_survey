{
 "cells": [
  {
   "cell_type": "code",
   "execution_count": null,
   "id": "e9ce8ee2-bde8-4d8e-81e3-9f3644a771f9",
   "metadata": {},
   "outputs": [],
   "source": [
    "# Import spreadsheet cleaning loader\n",
    "from load_survey_data import load_data, headers"
   ]
  },
  {
   "cell_type": "code",
   "execution_count": null,
   "id": "41b91b53-36b3-45f6-98b6-be4bd9c2a8eb",
   "metadata": {},
   "outputs": [],
   "source": [
    "sheet = \"results.xlsx\"\n",
    "datetime_format = \"%Y-%m-%d %H:%M:%S %Z\""
   ]
  },
  {
   "cell_type": "code",
   "execution_count": null,
   "id": "7f281001-a733-4d3b-89a9-30db0e7ead9f",
   "metadata": {},
   "outputs": [],
   "source": [
    "df = load_data(sheet, datetime_format)"
   ]
  },
  {
   "cell_type": "code",
   "execution_count": null,
   "id": "70257b6e-f3b0-47ac-abab-6d9bf54fee9b",
   "metadata": {},
   "outputs": [],
   "source": [
    "from analysis import categories"
   ]
  },
  {
   "cell_type": "code",
   "execution_count": null,
   "id": "83804daf",
   "metadata": {},
   "outputs": [],
   "source": [
    "# pd.set_option('display.max_rows', None)\n",
    "# pd.set_option('display.max_colwidth', None)\n",
    "# df['8.a. Which programming languages are important to you?'].dropna()"
   ]
  },
  {
   "cell_type": "code",
   "execution_count": null,
   "id": "12b4929e",
   "metadata": {},
   "outputs": [],
   "source": [
    "c = categories(\n",
    "    answers=df['8.a. Which programming languages are important to you?'],\n",
    "    drop_words=[],\n",
    "    keep_words=['python', 'r', 'stata', 'julia', 'javascript', 'c#', 'java', 'c++', 'sql', 'html', 'shell', 'spark', 'pyspark', 'matlab', 'cuda', 'go', 'spss', 'terraform', 'c', 'groovy'],\n",
    "    synonyms={'shell': ['bash', 'zsh'], 'sql': ['mysql', 'postgres', 'postgresql']},\n",
    "    drop_rows=[34,70,94,101,104]\n",
    ")\n",
    "c"
   ]
  },
  {
   "cell_type": "code",
   "execution_count": null,
   "id": "c344391e",
   "metadata": {},
   "outputs": [],
   "source": [
    "from tabulate import tabulate"
   ]
  },
  {
   "cell_type": "code",
   "execution_count": null,
   "id": "1036900f",
   "metadata": {},
   "outputs": [],
   "source": [
    "print(tabulate(c, ['language', 'count', 'percentage'], tablefmt='github', floatfmt='.0f'))"
   ]
  }
 ],
 "metadata": {
  "kernelspec": {
   "display_name": "Python 3 (ipykernel)",
   "language": "python",
   "name": "python3"
  },
  "language_info": {
   "codemirror_mode": {
    "name": "ipython",
    "version": 3
   },
   "file_extension": ".py",
   "mimetype": "text/x-python",
   "name": "python",
   "nbconvert_exporter": "python",
   "pygments_lexer": "ipython3",
   "version": "3.11.3"
  }
 },
 "nbformat": 4,
 "nbformat_minor": 5
}
