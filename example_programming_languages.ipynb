{
 "cells": [
  {
   "cell_type": "code",
   "execution_count": null,
   "id": "f29dae6f-fcba-476e-91a0-f0ad81b49067",
   "metadata": {},
   "outputs": [],
   "source": [
    "from datetime import datetime \n",
    "import matplotlib\n",
    "import matplotlib.pyplot as plt\n",
    "import numpy as np\n",
    "import pandas as pd\n",
    "# Requires openpyxl for read_excel\n",
    "from pathlib import Path\n",
    "import re\n",
    "from IPython.display import Markdown"
   ]
  },
  {
   "cell_type": "code",
   "execution_count": null,
   "id": "e9ce8ee2-bde8-4d8e-81e3-9f3644a771f9",
   "metadata": {},
   "outputs": [],
   "source": [
    "# Import spreadsheet cleaning loader\n",
    "from load_survey_data import load_data, headers"
   ]
  },
  {
   "cell_type": "code",
   "execution_count": null,
   "id": "41b91b53-36b3-45f6-98b6-be4bd9c2a8eb",
   "metadata": {},
   "outputs": [],
   "source": [
    "sheet = \"results.xlsx\"\n",
    "format = \"%Y-%m-%d %H:%M:%S %Z\""
   ]
  },
  {
   "cell_type": "code",
   "execution_count": null,
   "id": "7f281001-a733-4d3b-89a9-30db0e7ead9f",
   "metadata": {},
   "outputs": [],
   "source": [
    "df = load_data(sheet, format)"
   ]
  },
  {
   "cell_type": "code",
   "execution_count": null,
   "id": "70257b6e-f3b0-47ac-abab-6d9bf54fee9b",
   "metadata": {},
   "outputs": [],
   "source": [
    "from analysis import categories"
   ]
  },
  {
   "cell_type": "code",
   "execution_count": null,
   "id": "b4aa40c2",
   "metadata": {},
   "outputs": [],
   "source": [
    "pd.set_option('display.max_rows', None)\n",
    "pd.set_option('display.max_colwidth', None)"
   ]
  },
  {
   "cell_type": "code",
   "execution_count": null,
   "id": "83804daf",
   "metadata": {},
   "outputs": [],
   "source": [
    "#df['8.a. Which programming languages are important to you?'].dropna()"
   ]
  },
  {
   "cell_type": "code",
   "execution_count": null,
   "id": "12b4929e",
   "metadata": {},
   "outputs": [],
   "source": [
    "c = categories(\n",
    "    answers=df['8.a. Which programming languages are important to you?'],\n",
    "    drop_words=[],\n",
    "    keep_words=['python', 'r', 'stata', 'julia', 'javascript', 'c#', 'java', 'c++', 'sql', 'html', 'shell', 'spark', 'pyspark', 'matlab', 'cuda', 'go', 'spss', 'terraform', 'c', 'groovy'],\n",
    "    synonyms={'shell': ['bash', 'zsh'], 'sql': ['mysql', 'postgres', 'postgresql']},\n",
    "    drop_rows=[34,70,94,101,104]\n",
    ")\n",
    "c"
   ]
  },
  {
   "cell_type": "code",
   "execution_count": null,
   "id": "c344391e",
   "metadata": {},
   "outputs": [],
   "source": [
    "from tabulate import tabulate"
   ]
  },
  {
   "cell_type": "code",
   "execution_count": null,
   "id": "2f12d271",
   "metadata": {},
   "outputs": [],
   "source": [
    "tabulate(c, tablefmt='html')"
   ]
  },
  {
   "cell_type": "code",
   "execution_count": null,
   "id": "1036900f",
   "metadata": {},
   "outputs": [],
   "source": [
    "print(tabulate(c, tablefmt='github'))"
   ]
  },
  {
   "cell_type": "code",
   "execution_count": null,
   "id": "1df9a800",
   "metadata": {},
   "outputs": [],
   "source": []
  }
 ],
 "metadata": {
  "kernelspec": {
   "display_name": "Python 3 (ipykernel)",
   "language": "python",
   "name": "python3"
  },
  "language_info": {
   "codemirror_mode": {
    "name": "ipython",
    "version": 3
   },
   "file_extension": ".py",
   "mimetype": "text/x-python",
   "name": "python",
   "nbconvert_exporter": "python",
   "pygments_lexer": "ipython3",
   "version": "3.11.3"
  }
 },
 "nbformat": 4,
 "nbformat_minor": 5
}
